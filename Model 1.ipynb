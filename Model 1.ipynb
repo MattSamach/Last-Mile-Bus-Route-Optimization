{
 "cells": [
  {
   "cell_type": "markdown",
   "metadata": {},
   "source": [
    "### Model Assumptions\n",
    "- One preselected stop per neighborhood\n",
    "- One bus\n",
    "- One school\n",
    "- Start and end at school\n",
    "- Each stop must be visited once\n",
    "- Not accounting for walking distances yet, just bus travel times\n",
    "- Not accounting for operational costs because only one bus \n",
    "- Infinite capacity on bus\n"
   ]
  },
  {
   "cell_type": "code",
   "execution_count": 1,
   "metadata": {},
   "outputs": [],
   "source": [
    "from gurobipy import *\n",
    "import numpy as np\n",
    "import pandas as pd"
   ]
  },
  {
   "cell_type": "markdown",
   "metadata": {},
   "source": [
    "### Data"
   ]
  },
  {
   "cell_type": "code",
   "execution_count": 2,
   "metadata": {},
   "outputs": [],
   "source": [
    "# Population at stops\n",
    "minadeo = pd.read_csv('minadeo_stops_all.csv')\n",
    "pop = list(minadeo.sort_values('STOP_ID')['NUM_KIDS'])\n",
    "\n",
    "# Initial number of kids\n",
    "initial_kids = sum(pop)\n",
    "\n",
    "# Total number of segments\n",
    "max_segments = len(pop)\n",
    "\n",
    "\n",
    "# Travel times between stops \n",
    "tt = pd.read_csv('distance_matrix.csv')\n",
    "\n",
    "tt.Distance = (tt.Distance/1609.344)*(60.0/30.0) # convert from meters to minutes\n",
    "\n",
    "# Function to get stop distances\n",
    "def get_distance(i,j):\n",
    "    if i==j:\n",
    "        return(0)\n",
    "    else:\n",
    "        try:\n",
    "            d = tt.loc[(tt.InputID==i)&(tt.TargetID==j),'Distance'].iloc[0]\n",
    "            return(d)\n",
    "        except:\n",
    "            print('No distance found for i={},j={}'.format(i,j))"
   ]
  },
  {
   "cell_type": "markdown",
   "metadata": {},
   "source": [
    "### Indeces"
   ]
  },
  {
   "cell_type": "code",
   "execution_count": 3,
   "metadata": {},
   "outputs": [],
   "source": [
    "stops = range(len(pop))\n",
    "segments = range(max_segments)"
   ]
  },
  {
   "cell_type": "markdown",
   "metadata": {},
   "source": [
    "### Setting up Model"
   ]
  },
  {
   "cell_type": "code",
   "execution_count": 4,
   "metadata": {},
   "outputs": [
    {
     "name": "stdout",
     "output_type": "stream",
     "text": [
      "Using license file /Users/matty_sam/gurobi.lic\n",
      "Academic license - for non-commercial use only\n"
     ]
    }
   ],
   "source": [
    "m = Model(\"Last Mile Model 1\")"
   ]
  },
  {
   "cell_type": "markdown",
   "metadata": {},
   "source": [
    "### Decision Variables"
   ]
  },
  {
   "cell_type": "code",
   "execution_count": 5,
   "metadata": {},
   "outputs": [],
   "source": [
    "# Binary variable for whether to go from stop i to j at segment s\n",
    "y = m.addVars(stops, stops, segments, \n",
    "              lb = 0.0, vtype = GRB.BINARY)\n",
    "\n",
    "# Auxiliary variable for how many students are on bus at a segment\n",
    "b = m.addVars(segments, lb = 0.0, vtype = GRB.INTEGER)"
   ]
  },
  {
   "cell_type": "markdown",
   "metadata": {},
   "source": [
    "### Objective Function"
   ]
  },
  {
   "cell_type": "code",
   "execution_count": 6,
   "metadata": {},
   "outputs": [],
   "source": [
    "# The objective is to minimize total time students spend on the bus\n",
    "\n",
    "total_travel = LinExpr()\n",
    "\n",
    "for i in stops:\n",
    "    for j in stops:\n",
    "        for s in segments:\n",
    "            total_travel += b[s] * get_distance(i,j) * y[i,j,s]\n",
    "            \n",
    "m.setObjective(total_travel, GRB.MINIMIZE)"
   ]
  },
  {
   "cell_type": "markdown",
   "metadata": {},
   "source": [
    "### Constraints"
   ]
  },
  {
   "cell_type": "code",
   "execution_count": 7,
   "metadata": {},
   "outputs": [],
   "source": [
    "# Kids on bus continuity constraint\n",
    "for s in segments:\n",
    "    m.addConstr(b[s] == initial_kids -\n",
    "               sum(sum(sum(y[i,j,z] * pop[j] for z in range(s))\n",
    "                                             for j in stops)\n",
    "                                             for i in stops))\n",
    "# Continuous route\n",
    "for a in stops:\n",
    "    for s in range(0, max(segments)):\n",
    "        m.addConstr((sum(y[a,j,s+1] for j in stops) - \n",
    "                     sum(y[i,a,s] for i in stops)) == 0)\n",
    "\n",
    "# # Start at school constraint\n",
    "m.addConstr(sum(y[0,j,0] for j in stops) == 1)\n",
    "                \n",
    "# Every stop is visited once constraint\n",
    "for j in stops:\n",
    "    m.addConstr(sum(sum(y[i,j,s] for s in segments)\n",
    "                                 for i in stops) == 1)\n",
    "    \n",
    "# # Every stop is left once constraint\n",
    "for i in stops:\n",
    "    m.addConstr(sum(sum(y[i,j,s] for s in segments)\n",
    "                                 for j in stops) == 1)\n",
    "    \n",
    "# Cannot have same origin and destination constraint\n",
    "for i in stops:\n",
    "    for s in segments:\n",
    "        m.addConstr(y[i,i,s] == 0)"
   ]
  },
  {
   "cell_type": "markdown",
   "metadata": {},
   "source": [
    "### Solve"
   ]
  },
  {
   "cell_type": "code",
   "execution_count": 8,
   "metadata": {
    "scrolled": false
   },
   "outputs": [
    {
     "name": "stdout",
     "output_type": "stream",
     "text": [
      "Gurobi Optimizer version 9.0.0 build v9.0.0rc2 (mac64)\n",
      "Optimize a model with 265 rows, 1342 columns and 11275 nonzeros\n",
      "Model fingerprint: 0x99bca551\n",
      "Model has 1210 quadratic objective terms\n",
      "Variable types: 0 continuous, 1342 integer (1331 binary)\n",
      "Coefficient statistics:\n",
      "  Matrix range     [1e+00, 8e+01]\n",
      "  Objective range  [0e+00, 0e+00]\n",
      "  QObjective range [1e+00, 1e+01]\n",
      "  Bounds range     [1e+00, 1e+00]\n",
      "  RHS range        [1e+00, 2e+02]\n",
      "Presolve removed 133 rows and 322 columns\n",
      "Presolve time: 0.06s\n",
      "Presolved: 1042 rows, 1930 columns, 10799 nonzeros\n",
      "Variable types: 0 continuous, 1930 integer (1010 binary)\n",
      "Found heuristic solution: objective 5771.2410586\n",
      "\n",
      "Root relaxation: objective 1.667647e+02, 401 iterations, 0.03 seconds\n",
      "\n",
      "    Nodes    |    Current Node    |     Objective Bounds      |     Work\n",
      " Expl Unexpl |  Obj  Depth IntInf | Incumbent    BestBd   Gap | It/Node Time\n",
      "\n",
      "     0     0  166.76470    0   57 5771.24106  166.76470  97.1%     -    0s\n",
      "H    0     0                    4003.9560219  166.76470  95.8%     -    0s\n",
      "     0     0  479.06151    0   82 4003.95602  479.06151  88.0%     -    0s\n",
      "     0     0  493.38037    0   70 4003.95602  493.38037  87.7%     -    0s\n",
      "     0     0  493.38037    0   64 4003.95602  493.38037  87.7%     -    0s\n",
      "     0     0  494.95044    0   81 4003.95602  494.95044  87.6%     -    0s\n",
      "     0     0  494.96921    0   76 4003.95602  494.96921  87.6%     -    0s\n",
      "     0     0  495.95142    0  102 4003.95602  495.95142  87.6%     -    1s\n",
      "H    0     0                    1484.5416317  495.95142  66.6%     -    1s\n",
      "     0     0  496.55105    0   97 1484.54163  496.55105  66.6%     -    1s\n",
      "     0     0  501.52709    0   76 1484.54163  501.52709  66.2%     -    1s\n",
      "     0     0  501.52709    0   47 1484.54163  501.52709  66.2%     -    1s\n",
      "     0     0  501.52709    0   68 1484.54163  501.52709  66.2%     -    1s\n",
      "H    0     0                    1472.0366011  501.52709  65.9%     -    1s\n",
      "     0     0  501.52709    0   75 1472.03660  501.52709  65.9%     -    1s\n",
      "     0     0  501.52709    0   68 1472.03660  501.52709  65.9%     -    1s\n",
      "     0     0  509.15070    0   77 1472.03660  509.15070  65.4%     -    1s\n",
      "     0     0  516.98703    0   79 1472.03660  516.98703  64.9%     -    1s\n",
      "     0     0  517.01282    0   83 1472.03660  517.01282  64.9%     -    1s\n",
      "     0     0  531.74582    0   70 1472.03660  531.74582  63.9%     -    2s\n",
      "     0     0  538.28388    0   71 1472.03660  538.28388  63.4%     -    2s\n",
      "     0     0  552.17873    0   74 1472.03660  552.17873  62.5%     -    2s\n",
      "     0     0  579.68662    0   85 1472.03660  579.68662  60.6%     -    2s\n",
      "     0     0  581.50514    0   79 1472.03660  581.50514  60.5%     -    2s\n",
      "     0     0  586.96455    0   89 1472.03660  586.96455  60.1%     -    2s\n",
      "     0     0  586.96455    0   73 1472.03660  586.96455  60.1%     -    2s\n",
      "     0     2  589.24703    0   63 1472.03660  589.24703  60.0%     -    2s\n",
      "  1782   569  731.48445   13   58 1472.03660  704.67577  52.1%  17.7    5s\n",
      "  3094   846  928.92687   25   90 1472.03660  709.75724  51.8%  16.9   10s\n",
      "  3129   869  888.60739   23   89 1472.03660  709.75724  51.8%  16.7   15s\n",
      "  3309   875  880.46075   23   66 1472.03660  709.75724  51.8%  22.8   20s\n",
      "  4701   852 1160.86480   38   31 1472.03660  709.75724  51.8%  34.1   25s\n",
      "  5778   770  709.75724   30   95 1472.03660  709.75724  51.8%  36.4   30s\n",
      "  7877  1478 infeasible   31      1472.03660  709.87895  51.8%  42.0   35s\n",
      "  9099  1753  922.53694   38   89 1472.03660  715.86298  51.4%  42.8   44s\n",
      "  9374  1880  934.34768   49   35 1472.03660  718.30874  51.2%  43.0   45s\n",
      " 10798  2272  860.11517   42   66 1472.03660  725.80507  50.7%  43.7   50s\n",
      " 13153  2783 1081.69697   48   59 1472.03660  737.87858  49.9%  44.4   55s\n",
      " 15929  3220  993.21460   41   47 1472.03660  753.63774  48.8%  44.3   60s\n",
      " 17865  3425     cutoff   39      1472.03660  770.97663  47.6%  44.6   65s\n",
      " 19196  3565  872.54084   45   44 1472.03660  783.11778  46.8%  44.2   75s\n",
      " 20274  3685  944.31990   33   77 1472.03660  794.03716  46.1%  44.0   81s\n",
      " 20924  3699 1017.68010   52  438 1472.03660  799.53890  45.7%  44.2  117s\n",
      " 20939  3709 1329.84905   35  105 1472.03660  799.53890  45.7%  44.2  120s\n",
      " 20954  3719 1118.84209   26  108 1472.03660  799.53890  45.7%  44.1  125s\n",
      " 20966  3727 1300.49907   28  117 1472.03660  799.53890  45.7%  44.1  131s\n",
      " 20976  3734 1133.90287   48  112 1472.03660  799.53890  45.7%  44.1  135s\n",
      " 20985  3740  996.14163   37  105 1472.03660  799.53890  45.7%  44.1  141s\n",
      " 20994  3746 1202.09771   37  122 1472.03660  799.53890  45.7%  44.1  146s\n",
      " 21003  3752  915.65919   46  124 1472.03660  799.53890  45.7%  44.0  150s\n",
      " 21025  3766  897.95961   36  126 1472.03660  799.53890  45.7%  44.0  155s\n",
      " 21035  3773  891.91354   44  122 1472.03660  799.53890  45.7%  44.0  160s\n",
      " 21045  3780  816.60529   33  125 1472.03660  799.53890  45.7%  43.9  165s\n",
      " 21050  3783  823.31765   36  121 1472.03660  799.53890  45.7%  43.9  170s\n",
      " 21074  3789 1003.97481   30   86 1472.03660  799.53890  45.7%  44.6  175s\n",
      " 21268  3776  799.53890   41   57 1472.03660  799.53890  45.7%  45.0  180s\n",
      " 22109  3766  799.53890   44  108 1472.03660  799.53890  45.7%  45.9  185s\n",
      " 22279  3779  799.53890   46   90 1472.03660  799.53890  45.7%  46.2  190s\n",
      " 23420  3863 1058.48621   33   75 1472.03660  799.53890  45.7%  47.6  195s\n",
      " 24781  3761  918.76684   49   91 1472.03660  799.53890  45.7%  48.4  200s\n",
      " 26038  3645  845.26957   47   91 1472.03660  799.53890  45.7%  49.1  205s\n",
      " 27626  3461     cutoff   54      1472.03660  799.53890  45.7%  49.6  211s\n",
      " 28901  3270  920.06720   51   68 1472.03660  799.53890  45.7%  49.8  215s\n",
      " 30795  2957  894.05209   52   57 1472.03660  804.78540  45.3%  50.0  221s\n",
      " 32402  2625  922.94359   56   62 1472.03660  820.77853  44.2%  50.1  227s\n",
      " 33217  2745     cutoff   59      1472.03660  827.59538  43.8%  50.2  232s\n",
      " 34026  2754 1144.73334   63   54 1472.03660  837.43386  43.1%  50.2  245s\n",
      " 35188  2866 infeasible   59      1472.03660  848.03539  42.4%  50.1  250s\n",
      " 36809  3016  962.31131   46   43 1472.03660  862.96296  41.4%  50.0  255s\n",
      " 38788  3194 1019.75367   44   75 1472.03660  882.77253  40.0%  49.9  260s\n",
      " 40784  3322  910.72865   34   75 1472.03660  899.04755  38.9%  49.9  266s\n",
      " 42136  3397  943.30183   52   63 1472.03660  910.19244  38.2%  50.0  270s\n",
      " 43770  3503 infeasible   55      1472.03660  924.18163  37.2%  49.9  275s\n",
      " 45301  3596 1029.95929   67   99 1472.03660  932.08780  36.7%  49.9  280s\n",
      " 47176  3657     cutoff   58      1472.03660  942.43878  36.0%  49.7  285s\n",
      " 48948  3692 1061.25429   56   73 1472.03660  954.39201  35.2%  49.7  291s\n",
      " 50469  3678 1014.03972   37   99 1472.03660  963.88342  34.5%  49.6  295s\n",
      " 52469  3491 infeasible   55      1472.03660  985.29030  33.1%  49.4  300s\n",
      " 53851  3493 1081.88315   50   82 1472.03660  999.73635  32.1%  49.4  307s\n",
      " 54512  3439 1093.08972   46  104 1472.03660 1004.00065  31.8%  49.3  311s\n",
      " 56284  3259 1323.14599   44   96 1472.03660 1020.80263  30.7%  49.3  315s\n",
      " 57857  3058 infeasible   60      1472.03660 1037.70997  29.5%  49.3  320s\n",
      " 59997  2786 1327.51150   68   50 1472.03660 1059.39865  28.0%  49.2  326s\n",
      " 61467  2564     cutoff   44      1472.03660 1071.66499  27.2%  49.1  330s\n",
      " 63791  2013 infeasible   49      1472.03660 1105.72116  24.9%  49.0  336s\n",
      " 65539  1435 1280.15291   66   44 1472.03660 1149.97683  21.9%  48.9  341s\n",
      " 68010   225     cutoff   44      1472.03660 1276.27086  13.3%  48.5  345s\n",
      "\n",
      "Cutting planes:\n",
      "  Gomory: 16\n",
      "  Implied bound: 117\n",
      "  Projected implied bound: 3\n",
      "  Clique: 2\n",
      "  MIR: 227\n",
      "  StrongCG: 16\n",
      "  Flow cover: 415\n",
      "  GUB cover: 1\n",
      "  Zero half: 10\n",
      "  RLT: 34\n",
      "  Relax-and-lift: 18\n",
      "\n",
      "Explored 68736 nodes (3325586 simplex iterations) in 345.81 seconds\n",
      "Thread count was 8 (of 8 available processors)\n",
      "\n",
      "Solution count 4: 1472.04 1484.54 4003.96 5771.24 \n",
      "\n",
      "Optimal solution found (tolerance 1.00e-04)\n",
      "Best objective 1.472036601140e+03, best bound 1.472036601140e+03, gap 0.0000%\n"
     ]
    }
   ],
   "source": [
    "m.optimize()"
   ]
  },
  {
   "cell_type": "code",
   "execution_count": 9,
   "metadata": {},
   "outputs": [
    {
     "data": {
      "text/plain": [
       "1472.036601139595"
      ]
     },
     "execution_count": 9,
     "metadata": {},
     "output_type": "execute_result"
    }
   ],
   "source": [
    "total_travel.getValue()"
   ]
  },
  {
   "cell_type": "code",
   "execution_count": 10,
   "metadata": {
    "scrolled": true
   },
   "outputs": [
    {
     "data": {
      "text/plain": [
       "[0, 6, 35, 78, 11, 13, 58, 5, 29, 9, 6]"
      ]
     },
     "execution_count": 10,
     "metadata": {},
     "output_type": "execute_result"
    }
   ],
   "source": [
    "pop"
   ]
  },
  {
   "cell_type": "code",
   "execution_count": 11,
   "metadata": {},
   "outputs": [
    {
     "name": "stdout",
     "output_type": "stream",
     "text": [
      "kids on bus:  250.0\n",
      "kids on bus:  239.0\n",
      "kids on bus:  161.0\n",
      "kids on bus:  155.0\n",
      "kids on bus:  97.0\n",
      "kids on bus:  62.0\n",
      "kids on bus:  49.0\n",
      "kids on bus:  20.0\n",
      "kids on bus:  11.0\n",
      "kids on bus:  5.0\n",
      "kids on bus:  0.0\n"
     ]
    }
   ],
   "source": [
    "kids_on_bus = list()\n",
    "\n",
    "for s in segments:\n",
    "    for i in stops:\n",
    "        for j in stops:\n",
    "            if y[i,j,s].x == 1:\n",
    "                print(\"kids on bus: \", b[s].x)\n",
    "                kids_on_bus.append(b[s].x)"
   ]
  },
  {
   "cell_type": "code",
   "execution_count": 15,
   "metadata": {},
   "outputs": [
    {
     "data": {
      "image/png": "[encoded data removed]",
      "text/plain": [
       "<Figure size 432x288 with 1 Axes>"
      ]
     },
     "metadata": {
      "needs_background": "light"
     },
     "output_type": "display_data"
    }
   ],
   "source": [
    "# Graphing outcomes\n",
    "import matplotlib.pyplot as plt\n",
    "\n",
    "plt.scatter(range(len(kids_on_bus)), kids_on_bus, color = 'r')\n",
    "plt.xlabel('Trip Sequences')\n",
    "plt.ylabel('Kids on Bus')\n",
    "plt.title('Model 1 - Total Kids on Bus')\n",
    "plt.grid()\n",
    "plt.show()"
   ]
  },
  {
   "cell_type": "code",
   "execution_count": 13,
   "metadata": {},
   "outputs": [
    {
     "name": "stdout",
     "output_type": "stream",
     "text": [
      "segment  0 :  0  ->  4\n",
      "segment  1 :  4  ->  3\n",
      "segment  2 :  3  ->  1\n",
      "segment  3 :  1  ->  6\n",
      "segment  4 :  6  ->  2\n",
      "segment  5 :  2  ->  5\n",
      "segment  6 :  5  ->  8\n",
      "segment  7 :  8  ->  9\n",
      "segment  8 :  9  ->  10\n",
      "segment  9 :  10  ->  7\n",
      "segment  10 :  7  ->  0\n"
     ]
    }
   ],
   "source": [
    "for s in segments:\n",
    "    for i in stops:\n",
    "        for j in stops:\n",
    "            if y[i,j,s].x == 1:\n",
    "                print(\"segment \", s, \": \", i, \" -> \", j)"
   ]
  },
  {
   "cell_type": "code",
   "execution_count": 14,
   "metadata": {},
   "outputs": [
    {
     "name": "stdout",
     "output_type": "stream",
     "text": [
      "seg 0 : 0 --> 4\n",
      "250.0 kids were on bus, 0 get off\n",
      "From 0 to 4 takes 0.5074128539330311, 126.85321348325779 kid time on segment 0\n",
      "seg 1 : 4 --> 3\n",
      "239.0 kids were on bus, 11 get off\n",
      "From 4 to 3 takes 1.9079068589437682, 455.9897392875606 kid time on segment 1\n",
      "seg 2 : 3 --> 1\n",
      "161.0 kids were on bus, 78 get off\n",
      "From 3 to 1 takes 1.0778266762109283, 173.53009486995947 kid time on segment 2\n",
      "seg 3 : 1 --> 6\n",
      "155.0 kids were on bus, 6 get off\n",
      "From 1 to 6 takes 2.4221121164897004, 375.42737805590355 kid time on segment 3\n",
      "seg 4 : 6 --> 2\n",
      "97.0 kids were on bus, 58 get off\n",
      "From 6 to 2 takes 1.1819866872464806, 114.65270866290862 kid time on segment 4\n",
      "seg 5 : 2 --> 5\n",
      "62.0 kids were on bus, 35 get off\n",
      "From 2 to 5 takes 1.7829584936471008, 110.54342660612025 kid time on segment 5\n",
      "seg 6 : 5 --> 8\n",
      "49.0 kids were on bus, 13 get off\n",
      "From 5 to 8 takes 1.7748911730493915, 86.96966747942018 kid time on segment 6\n",
      "seg 7 : 8 --> 9\n",
      "20.0 kids were on bus, 29 get off\n",
      "From 8 to 9 takes 0.9204314755577427, 18.408629511154857 kid time on segment 7\n",
      "seg 8 : 9 --> 10\n",
      "11.0 kids were on bus, 9 get off\n",
      "From 9 to 10 takes 0.6174448934472679, 6.791893827919948 kid time on segment 8\n",
      "seg 9 : 10 --> 7\n",
      "5.0 kids were on bus, 6 get off\n",
      "From 10 to 7 takes 0.5739698710779051, 2.8698493553895252 kid time on segment 9\n",
      "seg 10 : 7 --> 0\n",
      "0.0 kids were on bus, 5 get off\n",
      "From 7 to 0 takes 5.118874607293406, 0.0 kid time on segment 10\n"
     ]
    }
   ],
   "source": [
    "k = initial_kids # kids left\n",
    "kids_left = []\n",
    "kid_time = []\n",
    "for s in segments:\n",
    "    for i in stops:\n",
    "        for j in stops:\n",
    "            if y[i,j,s].x == 1:\n",
    "                print('seg {} : {} --> {}'.format(s,i,j))\n",
    "                k += (-1) * pop[i] * y[i,j,s].x\n",
    "                travel_seg = k*get_distance(i,j)\n",
    "                print('{} kids were on bus, {} get off'.format(k, pop[i]))\n",
    "                print('From {} to {} takes {}, {} kid time on segment {}'.format(i,j,get_distance(i,j),travel_seg, s))\n",
    "                kids_left.append(k)\n",
    "                kid_time.append(travel_seg)"
   ]
  }
 ],
 "metadata": {
  "kernelspec": {
   "display_name": "Python 3",
   "language": "python",
   "name": "python3"
  },
  "language_info": {
   "codemirror_mode": {
    "name": "ipython",
    "version": 3
   },
   "file_extension": ".py",
   "mimetype": "text/x-python",
   "name": "python",
   "nbconvert_exporter": "python",
   "pygments_lexer": "ipython3",
   "version": "3.7.4"
  }
 },
 "nbformat": 4,
 "nbformat_minor": 2
}
